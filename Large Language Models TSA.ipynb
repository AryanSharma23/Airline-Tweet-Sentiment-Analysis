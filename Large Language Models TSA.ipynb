{
 "cells": [
  {
   "cell_type": "markdown",
   "id": "947ef962",
   "metadata": {},
   "source": [
    "# Twitter Sentiment Analysis\n",
    "\n",
    "## Aryan Sharma\n"
   ]
  },
  {
   "cell_type": "code",
   "execution_count": 125,
   "id": "d5d07e38",
   "metadata": {},
   "outputs": [],
   "source": [
    "import pandas as pd\n",
    "import matplotlib.pyplot as plt\n",
    "import seaborn as sns\n",
    "import regex as re\n",
    "import nltk\n",
    "from nltk.corpus import stopwords\n",
    "from nltk.tokenize import word_tokenize\n",
    "from nltk.stem import PorterStemmer\n",
    "from nltk.stem import WordNetLemmatizer\n",
    "from sklearn.model_selection import train_test_split\n",
    "from sklearn.linear_model import LogisticRegression\n",
    "import gensim\n",
    "import numpy as np\n",
    "from sklearn.metrics import accuracy_score, classification_report"
   ]
  },
  {
   "cell_type": "code",
   "execution_count": 126,
   "id": "94aaf943",
   "metadata": {},
   "outputs": [],
   "source": [
    "df = pd.read_csv('Tweets.csv') # Read the file"
   ]
  },
  {
   "cell_type": "markdown",
   "id": "8acbb906",
   "metadata": {},
   "source": [
    "### Exploratory Data Analysis (EDA)"
   ]
  },
  {
   "cell_type": "code",
   "execution_count": 127,
   "id": "fce8e0a1",
   "metadata": {},
   "outputs": [
    {
     "data": {
      "text/html": [
       "<div>\n",
       "<style scoped>\n",
       "    .dataframe tbody tr th:only-of-type {\n",
       "        vertical-align: middle;\n",
       "    }\n",
       "\n",
       "    .dataframe tbody tr th {\n",
       "        vertical-align: top;\n",
       "    }\n",
       "\n",
       "    .dataframe thead th {\n",
       "        text-align: right;\n",
       "    }\n",
       "</style>\n",
       "<table border=\"1\" class=\"dataframe\">\n",
       "  <thead>\n",
       "    <tr style=\"text-align: right;\">\n",
       "      <th></th>\n",
       "      <th>tweet_id</th>\n",
       "      <th>airline_sentiment</th>\n",
       "      <th>airline_sentiment_confidence</th>\n",
       "      <th>negativereason</th>\n",
       "      <th>negativereason_confidence</th>\n",
       "      <th>airline</th>\n",
       "      <th>airline_sentiment_gold</th>\n",
       "      <th>name</th>\n",
       "      <th>negativereason_gold</th>\n",
       "      <th>retweet_count</th>\n",
       "      <th>text</th>\n",
       "      <th>tweet_coord</th>\n",
       "      <th>tweet_created</th>\n",
       "      <th>tweet_location</th>\n",
       "      <th>user_timezone</th>\n",
       "    </tr>\n",
       "  </thead>\n",
       "  <tbody>\n",
       "    <tr>\n",
       "      <th>0</th>\n",
       "      <td>570306133677760513</td>\n",
       "      <td>neutral</td>\n",
       "      <td>1.0000</td>\n",
       "      <td>NaN</td>\n",
       "      <td>NaN</td>\n",
       "      <td>Virgin America</td>\n",
       "      <td>NaN</td>\n",
       "      <td>cairdin</td>\n",
       "      <td>NaN</td>\n",
       "      <td>0</td>\n",
       "      <td>@VirginAmerica What @dhepburn said.</td>\n",
       "      <td>NaN</td>\n",
       "      <td>2015-02-24 11:35:52 -0800</td>\n",
       "      <td>NaN</td>\n",
       "      <td>Eastern Time (US &amp; Canada)</td>\n",
       "    </tr>\n",
       "    <tr>\n",
       "      <th>1</th>\n",
       "      <td>570301130888122368</td>\n",
       "      <td>positive</td>\n",
       "      <td>0.3486</td>\n",
       "      <td>NaN</td>\n",
       "      <td>0.0000</td>\n",
       "      <td>Virgin America</td>\n",
       "      <td>NaN</td>\n",
       "      <td>jnardino</td>\n",
       "      <td>NaN</td>\n",
       "      <td>0</td>\n",
       "      <td>@VirginAmerica plus you've added commercials t...</td>\n",
       "      <td>NaN</td>\n",
       "      <td>2015-02-24 11:15:59 -0800</td>\n",
       "      <td>NaN</td>\n",
       "      <td>Pacific Time (US &amp; Canada)</td>\n",
       "    </tr>\n",
       "    <tr>\n",
       "      <th>2</th>\n",
       "      <td>570301083672813571</td>\n",
       "      <td>neutral</td>\n",
       "      <td>0.6837</td>\n",
       "      <td>NaN</td>\n",
       "      <td>NaN</td>\n",
       "      <td>Virgin America</td>\n",
       "      <td>NaN</td>\n",
       "      <td>yvonnalynn</td>\n",
       "      <td>NaN</td>\n",
       "      <td>0</td>\n",
       "      <td>@VirginAmerica I didn't today... Must mean I n...</td>\n",
       "      <td>NaN</td>\n",
       "      <td>2015-02-24 11:15:48 -0800</td>\n",
       "      <td>Lets Play</td>\n",
       "      <td>Central Time (US &amp; Canada)</td>\n",
       "    </tr>\n",
       "    <tr>\n",
       "      <th>3</th>\n",
       "      <td>570301031407624196</td>\n",
       "      <td>negative</td>\n",
       "      <td>1.0000</td>\n",
       "      <td>Bad Flight</td>\n",
       "      <td>0.7033</td>\n",
       "      <td>Virgin America</td>\n",
       "      <td>NaN</td>\n",
       "      <td>jnardino</td>\n",
       "      <td>NaN</td>\n",
       "      <td>0</td>\n",
       "      <td>@VirginAmerica it's really aggressive to blast...</td>\n",
       "      <td>NaN</td>\n",
       "      <td>2015-02-24 11:15:36 -0800</td>\n",
       "      <td>NaN</td>\n",
       "      <td>Pacific Time (US &amp; Canada)</td>\n",
       "    </tr>\n",
       "    <tr>\n",
       "      <th>4</th>\n",
       "      <td>570300817074462722</td>\n",
       "      <td>negative</td>\n",
       "      <td>1.0000</td>\n",
       "      <td>Can't Tell</td>\n",
       "      <td>1.0000</td>\n",
       "      <td>Virgin America</td>\n",
       "      <td>NaN</td>\n",
       "      <td>jnardino</td>\n",
       "      <td>NaN</td>\n",
       "      <td>0</td>\n",
       "      <td>@VirginAmerica and it's a really big bad thing...</td>\n",
       "      <td>NaN</td>\n",
       "      <td>2015-02-24 11:14:45 -0800</td>\n",
       "      <td>NaN</td>\n",
       "      <td>Pacific Time (US &amp; Canada)</td>\n",
       "    </tr>\n",
       "  </tbody>\n",
       "</table>\n",
       "</div>"
      ],
      "text/plain": [
       "             tweet_id airline_sentiment  airline_sentiment_confidence  \\\n",
       "0  570306133677760513           neutral                        1.0000   \n",
       "1  570301130888122368          positive                        0.3486   \n",
       "2  570301083672813571           neutral                        0.6837   \n",
       "3  570301031407624196          negative                        1.0000   \n",
       "4  570300817074462722          negative                        1.0000   \n",
       "\n",
       "  negativereason  negativereason_confidence         airline  \\\n",
       "0            NaN                        NaN  Virgin America   \n",
       "1            NaN                     0.0000  Virgin America   \n",
       "2            NaN                        NaN  Virgin America   \n",
       "3     Bad Flight                     0.7033  Virgin America   \n",
       "4     Can't Tell                     1.0000  Virgin America   \n",
       "\n",
       "  airline_sentiment_gold        name negativereason_gold  retweet_count  \\\n",
       "0                    NaN     cairdin                 NaN              0   \n",
       "1                    NaN    jnardino                 NaN              0   \n",
       "2                    NaN  yvonnalynn                 NaN              0   \n",
       "3                    NaN    jnardino                 NaN              0   \n",
       "4                    NaN    jnardino                 NaN              0   \n",
       "\n",
       "                                                text tweet_coord  \\\n",
       "0                @VirginAmerica What @dhepburn said.         NaN   \n",
       "1  @VirginAmerica plus you've added commercials t...         NaN   \n",
       "2  @VirginAmerica I didn't today... Must mean I n...         NaN   \n",
       "3  @VirginAmerica it's really aggressive to blast...         NaN   \n",
       "4  @VirginAmerica and it's a really big bad thing...         NaN   \n",
       "\n",
       "               tweet_created tweet_location               user_timezone  \n",
       "0  2015-02-24 11:35:52 -0800            NaN  Eastern Time (US & Canada)  \n",
       "1  2015-02-24 11:15:59 -0800            NaN  Pacific Time (US & Canada)  \n",
       "2  2015-02-24 11:15:48 -0800      Lets Play  Central Time (US & Canada)  \n",
       "3  2015-02-24 11:15:36 -0800            NaN  Pacific Time (US & Canada)  \n",
       "4  2015-02-24 11:14:45 -0800            NaN  Pacific Time (US & Canada)  "
      ]
     },
     "execution_count": 127,
     "metadata": {},
     "output_type": "execute_result"
    }
   ],
   "source": [
    "df.head(5) # Visualize the dataset"
   ]
  },
  {
   "cell_type": "code",
   "execution_count": 128,
   "id": "055859e5",
   "metadata": {},
   "outputs": [
    {
     "name": "stdout",
     "output_type": "stream",
     "text": [
      "<class 'pandas.core.frame.DataFrame'>\n",
      "RangeIndex: 14640 entries, 0 to 14639\n",
      "Data columns (total 15 columns):\n",
      " #   Column                        Non-Null Count  Dtype  \n",
      "---  ------                        --------------  -----  \n",
      " 0   tweet_id                      14640 non-null  int64  \n",
      " 1   airline_sentiment             14640 non-null  object \n",
      " 2   airline_sentiment_confidence  14640 non-null  float64\n",
      " 3   negativereason                9178 non-null   object \n",
      " 4   negativereason_confidence     10522 non-null  float64\n",
      " 5   airline                       14640 non-null  object \n",
      " 6   airline_sentiment_gold        40 non-null     object \n",
      " 7   name                          14640 non-null  object \n",
      " 8   negativereason_gold           32 non-null     object \n",
      " 9   retweet_count                 14640 non-null  int64  \n",
      " 10  text                          14640 non-null  object \n",
      " 11  tweet_coord                   1019 non-null   object \n",
      " 12  tweet_created                 14640 non-null  object \n",
      " 13  tweet_location                9907 non-null   object \n",
      " 14  user_timezone                 9820 non-null   object \n",
      "dtypes: float64(2), int64(2), object(11)\n",
      "memory usage: 1.7+ MB\n"
     ]
    }
   ],
   "source": [
    "df.info() # Look at column information"
   ]
  },
  {
   "cell_type": "code",
   "execution_count": 129,
   "id": "354a854c",
   "metadata": {},
   "outputs": [
    {
     "data": {
      "image/png": "[encoded data removed]",
      "text/plain": [
       "<Figure size 504x216 with 1 Axes>"
      ]
     },
     "metadata": {
      "needs_background": "light"
     },
     "output_type": "display_data"
    }
   ],
   "source": [
    "plt.figure(figsize=(7,3))\n",
    "sns.countplot(x='airline', data=df, palette=\"PuOr\")\n",
    "plt.show() # Visualize count of tweets for each airline"
   ]
  },
  {
   "cell_type": "code",
   "execution_count": 130,
   "id": "671f2635",
   "metadata": {},
   "outputs": [
    {
     "data": {
      "image/png": "[encoded data removed]",
      "text/plain": [
       "<Figure size 504x216 with 1 Axes>"
      ]
     },
     "metadata": {
      "needs_background": "light"
     },
     "output_type": "display_data"
    }
   ],
   "source": [
    "plt.figure(figsize=(7,3))\n",
    "sns.countplot(x='airline_sentiment', data=df)\n",
    "plt.show() # Visualize count of tweets of each sentiment"
   ]
  },
  {
   "cell_type": "markdown",
   "id": "716ee4c3",
   "metadata": {},
   "source": [
    "### Cleaning, Pre-processing Data and Tokenizing "
   ]
  },
  {
   "cell_type": "code",
   "execution_count": 131,
   "id": "f2a80c1a",
   "metadata": {},
   "outputs": [],
   "source": [
    "df2 = df['text'] #\n",
    "\n",
    "df2 = df2.str.lower() # Converting to lowercase\n",
    "\n",
    "def removing_sw(text): # Removing stopwords\n",
    "    return \" \".join([word for word in str(text).split() if word not in stopwords.words('English')])\n",
    "\n",
    "df2 = df2.apply(lambda text: removing_sw(text))\n",
    "\n",
    "def cleaner(t):\n",
    "    t = re.sub(r'http\\S+|www\\S+|https\\S+', '', t, flags=re.MULTILINE)  # remove urls\n",
    "    t = re.sub(r'\\@\\w+|\\#', '', t)  # remove at and hash tags\n",
    "    t = t.encode('ascii', 'ignore').decode('ascii')  # remove emojis\n",
    "    t = re.sub(r'\\s+', ' ', t).strip()  # remove extra spaces\n",
    "    t = re.sub('[0-9]+', '', t)\n",
    "    t = re.sub(r'[^\\w\\s]', '', t)\n",
    "    t = word_tokenize(t)\n",
    "    #ps = PorterStemmer()\n",
    "    #t = [ps.stem(w) for w in t]\n",
    "    lemmatizer = WordNetLemmatizer()\n",
    "    t = [lemmatizer.lemmatize(w, pos='a') for w in t]\n",
    "    return t\n",
    "\n",
    "df2 = df2.apply(lambda t: cleaner(t))\n",
    "df2 = df2.to_list()\n",
    "df3 = df2.copy()"
   ]
  },
  {
   "cell_type": "markdown",
   "id": "d16c3386",
   "metadata": {},
   "source": [
    "### Vectorizing the Data"
   ]
  },
  {
   "cell_type": "code",
   "execution_count": 132,
   "id": "1c7b1e53",
   "metadata": {},
   "outputs": [],
   "source": [
    "model = gensim.models.Word2Vec(sentences = df3, vector_size = 100, window = 5, min_count = 1, sg = 0)"
   ]
  },
  {
   "cell_type": "code",
   "execution_count": 133,
   "id": "63bf4b82",
   "metadata": {},
   "outputs": [],
   "source": [
    "# Vectorize text using the Word2Vec model\n",
    "def vectorize_text(text, model):\n",
    "    vectors = [model.wv[word] for word in text if word in model.wv]\n",
    "    if vectors:\n",
    "        return np.mean(vectors, axis=0)  # Average the word vectors\n",
    "    else:\n",
    "        return np.zeros(model.vector_size)  # Use a zero vector for out-of-vocabulary words\n"
   ]
  },
  {
   "cell_type": "code",
   "execution_count": 134,
   "id": "6db0974a",
   "metadata": {},
   "outputs": [],
   "source": [
    "# Vectorize the text data\n",
    "vdf2 = [vectorize_text(text, model) for text in df2]\n",
    "\n",
    "# Add the vectorized text to the DataFrame\n",
    "df['word2vec_vectors'] = vdf2\n",
    "\n",
    "# Encode the target labels\n",
    "label_mapping = {\"positive\": 0, \"negative\": 1, \"neutral\": 2}\n",
    "df['airline_sentiment_encoded'] = df['airline_sentiment'].map(label_mapping)\n",
    "\n",
    "# Split the data into train and test sets\n",
    "X_train, X_test, y_train, y_test = train_test_split(df['word2vec_vectors'].to_list(), df['airline_sentiment_encoded'], test_size=0.2, random_state=42)"
   ]
  },
  {
   "cell_type": "markdown",
   "id": "8ba2ff7e",
   "metadata": {},
   "source": [
    "### Logistic Regression Model and Results"
   ]
  },
  {
   "cell_type": "code",
   "execution_count": 135,
   "id": "1de1d0ab",
   "metadata": {},
   "outputs": [
    {
     "name": "stdout",
     "output_type": "stream",
     "text": [
      "Accuracy: 0.7028688524590164\n",
      "Classification Report:\n",
      "               precision    recall  f1-score   support\n",
      "\n",
      "    positive       0.75      0.33      0.46       459\n",
      "    negative       0.71      0.97      0.82      1889\n",
      "     neutral       0.54      0.14      0.23       580\n",
      "\n",
      "    accuracy                           0.70      2928\n",
      "   macro avg       0.67      0.48      0.50      2928\n",
      "weighted avg       0.68      0.70      0.64      2928\n",
      "\n"
     ]
    }
   ],
   "source": [
    "# Build and train a logistic regression model\n",
    "classifier = LogisticRegression(max_iter=1000)\n",
    "classifier.fit(X_train, y_train)\n",
    "y_pred = classifier.predict(X_test)\n",
    "\n",
    "# Evaluate the model\n",
    "accuracy = accuracy_score(y_test, y_pred)\n",
    "report = classification_report(y_test, y_pred, target_names=label_mapping.keys())\n",
    "\n",
    "print(\"Accuracy:\", accuracy)\n",
    "print(\"Classification Report:\\n\", report)"
   ]
  },
  {
   "cell_type": "markdown",
   "id": "df698bf1",
   "metadata": {},
   "source": [
    "### Random Forest Model and Results"
   ]
  },
  {
   "cell_type": "code",
   "execution_count": 136,
   "id": "70e01a47",
   "metadata": {},
   "outputs": [
    {
     "name": "stdout",
     "output_type": "stream",
     "text": [
      "Accuracy: 0.7189207650273224\n",
      "Classification Report:\n",
      "               precision    recall  f1-score   support\n",
      "\n",
      "    positive       0.65      0.44      0.52       459\n",
      "    negative       0.75      0.91      0.83      1889\n",
      "     neutral       0.54      0.32      0.40       580\n",
      "\n",
      "    accuracy                           0.72      2928\n",
      "   macro avg       0.65      0.56      0.58      2928\n",
      "weighted avg       0.70      0.72      0.69      2928\n",
      "\n"
     ]
    }
   ],
   "source": [
    "from sklearn.ensemble import RandomForestClassifier\n",
    "\n",
    "# Build and train a Random Forest classifier\n",
    "classifier = RandomForestClassifier(n_estimators=100, random_state=42)\n",
    "classifier.fit(X_train, y_train)\n",
    "y_pred = classifier.predict(X_test)\n",
    "\n",
    "# Evaluate the model\n",
    "accuracy = accuracy_score(y_test, y_pred)\n",
    "report = classification_report(y_test, y_pred, target_names=label_mapping.keys())\n",
    "\n",
    "print(\"Accuracy:\", accuracy)\n",
    "print(\"Classification Report:\\n\", report)"
   ]
  },
  {
   "cell_type": "markdown",
   "id": "06e3fda3",
   "metadata": {},
   "source": [
    "### XGBoost Model and Results"
   ]
  },
  {
   "cell_type": "code",
   "execution_count": 137,
   "id": "4983afe9",
   "metadata": {},
   "outputs": [
    {
     "name": "stdout",
     "output_type": "stream",
     "text": [
      "Accuracy: 0.7233606557377049\n",
      "Classification Report:\n",
      "               precision    recall  f1-score   support\n",
      "\n",
      "    positive       0.65      0.50      0.56       459\n",
      "    negative       0.77      0.89      0.83      1889\n",
      "     neutral       0.53      0.35      0.42       580\n",
      "\n",
      "    accuracy                           0.72      2928\n",
      "   macro avg       0.65      0.58      0.60      2928\n",
      "weighted avg       0.70      0.72      0.70      2928\n",
      "\n"
     ]
    }
   ],
   "source": [
    "import xgboost as xgb\n",
    "\n",
    "# Build and train a Gradient Boosting (XGBoost) classifier\n",
    "classifier = xgb.XGBClassifier(objective=\"multi:softmax\", random_state=42)\n",
    "classifier.fit(X_train, y_train)\n",
    "y_pred = classifier.predict(X_test)\n",
    "\n",
    "# Evaluate the model\n",
    "accuracy = accuracy_score(y_test, y_pred)\n",
    "report = classification_report(y_test, y_pred, target_names=label_mapping.keys())\n",
    "\n",
    "print(\"Accuracy:\", accuracy)\n",
    "print(\"Classification Report:\\n\", report)"
   ]
  },
  {
   "cell_type": "markdown",
   "id": "34f1e65a",
   "metadata": {},
   "source": [
    "### SVM Model and Results"
   ]
  },
  {
   "cell_type": "code",
   "execution_count": 138,
   "id": "9c1ae48a",
   "metadata": {},
   "outputs": [
    {
     "name": "stdout",
     "output_type": "stream",
     "text": [
      "Accuracy: 0.6851092896174863\n",
      "Classification Report:\n",
      "               precision    recall  f1-score   support\n",
      "\n",
      "    positive       0.75      0.26      0.39       459\n",
      "    negative       0.68      0.99      0.81      1889\n",
      "     neutral       0.69      0.04      0.08       580\n",
      "\n",
      "    accuracy                           0.69      2928\n",
      "   macro avg       0.71      0.43      0.42      2928\n",
      "weighted avg       0.69      0.69      0.60      2928\n",
      "\n"
     ]
    }
   ],
   "source": [
    "from sklearn.svm import SVC\n",
    "\n",
    "# Build and train a Gradient Boosting (XGBoost) classifier\n",
    "classifier = SVC(kernel='linear')\n",
    "classifier.fit(X_train, y_train)\n",
    "y_pred = classifier.predict(X_test)\n",
    "\n",
    "# Evaluate the model\n",
    "accuracy = accuracy_score(y_test, y_pred)\n",
    "report = classification_report(y_test, y_pred, target_names=label_mapping.keys())\n",
    "\n",
    "print(\"Accuracy:\", accuracy)\n",
    "print(\"Classification Report:\\n\", report)"
   ]
  },
  {
   "cell_type": "markdown",
   "id": "25d4ed1b",
   "metadata": {},
   "source": [
    "### Interpretations and Explanations / Conclusions"
   ]
  },
  {
   "cell_type": "markdown",
   "id": "a347d3c7",
   "metadata": {},
   "source": [
    "Data Preprocessing - In the preprocessing step, we tokenized it, removed special characters and lemmatized the words.\n",
    "\n",
    "Word2Vec Model Training - We trained a Word2Vec model on the preprocessed text data and it returns a list of 100 numbers for each word as a vector.\n",
    "\n",
    "Using the trained Word2Vec model, we vectorized the preprocessed text data. \n",
    "\n",
    "We considered four different classification models: Logistic Regression, Random Forest, Gradient Boosting (XGBoost) and SVM. \n",
    "\n",
    "Model Training and Evaluation - For each model, we calculated accuracy and generated a classification report that includes precision, recall, F1-score, and support for each class (positive, negative, neutral).\n",
    "\n",
    "Conclusion - From the above models, we see that all models have their positives and negatives across different classification buckets but from the results above the macro average is the highest for SVM while the weighted average of XGBoost is the highest, making these two the choice of consideration for airline tweet classification."
   ]
  }
 ],
 "metadata": {
  "kernelspec": {
   "display_name": "Python 3 (ipykernel)",
   "language": "python",
   "name": "python3"
  },
  "language_info": {
   "codemirror_mode": {
    "name": "ipython",
    "version": 3
   },
   "file_extension": ".py",
   "mimetype": "text/x-python",
   "name": "python",
   "nbconvert_exporter": "python",
   "pygments_lexer": "ipython3",
   "version": "3.9.12"
  }
 },
 "nbformat": 4,
 "nbformat_minor": 5
}
